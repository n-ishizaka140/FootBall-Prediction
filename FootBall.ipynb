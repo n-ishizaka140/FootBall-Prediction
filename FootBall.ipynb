{
 "cells": [
  {
   "cell_type": "markdown",
   "metadata": {},
   "source": [
    "# 日本がサッカーW杯で優勝できる方法を過去の試合から分析してみた！！！！"
   ]
  },
  {
   "cell_type": "markdown",
   "metadata": {},
   "source": [
    "## はじめに\n",
    "こんにちは。機械学習初学者の石坂と申します。<br>\n",
    "\n",
    "機械学習というと株やFX、仮想通貨の価格を分析、予測しているブログは多々ありますが <br>\n",
    "私はW杯を分析してみたいと思いますが、なぜW杯なのか？ <br>\n",
    "\n",
    "私が大のサッカー好きだからです（笑）\n",
    "前回のロシアワールドカップも現FIFAランキング１位のベルギーに3対2まで接戦に持ち込み、残りわずかで敗れてしまいました。次回こそ優勝と目標を掲げている日本に、過去のデータを参考に優勝できる条件を<b>Pandas</b>メインに分析してみようと思います。\n",
    "<br>\n",
    "今回は下記URLのデータセットを参考にしております。<br>\n",
    "https://www.kaggle.com/martj42/international-football-results-from-1872-to-2017<br>"
   ]
  },
  {
   "cell_type": "markdown",
   "metadata": {},
   "source": [
    "- **0 環境**\n",
    "<br><br>\n",
    "- **1-1 データの加工**\n",
    "- **1-2 データの性質を理解する**\n",
    "- **1-3 欠損値と重複データの確認**\n",
    "<br><br>\n",
    "- **2-1 特徴量の相関関係の分析**\n",
    "- **2-2 データの可視化**\n",
    "<br><br>\n",
    "- **3-1 出場国チームの選別**\n",
    "- **3-2 グループリーグの組み合わせ**\n",
    "- **3-3 勝敗の決め方**\n",
    "- **3-4 試合結果**\n",
    "<br><br>\n",
    "- **4 最後に**"
   ]
  },
  {
   "cell_type": "markdown",
   "metadata": {},
   "source": [
    "## 0 環境"
   ]
  },
  {
   "cell_type": "markdown",
   "metadata": {},
   "source": [
    "- **Python 3.7.4**\n",
    "- **jupyter notebook 6.0.1**\n",
    "- **macOS Mojave 10.14.6**"
   ]
  },
  {
   "cell_type": "code",
   "execution_count": 111,
   "metadata": {},
   "outputs": [],
   "source": [
    "#importと部分はこのようになっております。\n",
    "import pandas as pd\n",
    "import datetime\n",
    "import warnings\n",
    "import matplotlib.pyplot as plt\n",
    "import matplotlib as mpl\n",
    "import matplotlib.dates as mdates\n",
    "import os\n",
    "import sys"
   ]
  },
  {
   "cell_type": "markdown",
   "metadata": {},
   "source": [
    "## 1-1 データの加工"
   ]
  },
  {
   "cell_type": "markdown",
   "metadata": {},
   "source": [
    "まず日本の勝敗を表記する<b>result</b>というカラムを作成します。<br>\n",
    "このカラムは勝利［１］　引き分け［０］　敗北［−１］このように入力していきます。そこから日本戦のみ抽出したデータを作成していきます。"
   ]
  },
  {
   "cell_type": "code",
   "execution_count": 972,
   "metadata": {},
   "outputs": [],
   "source": [
    "# 警告がうるさいためここでは非表示に設定\n",
    "warnings.simplefilter(\"ignore\")\n",
    "\n",
    "# CSVの読み込み\n",
    "df_match = pd.read_csv(\"match.csv\")\n",
    "\n",
    "# 日本がホームかアウェイかを示すjapan_home_dummy列を作成\n",
    "df_match[\"japan_home_dummy\"] = 0\n",
    "df_match[\"japan_home_dummy\"][df_match[\"home_team\"]==\"Japan\"] = 1\n",
    "\n",
    "# ホームチームが勝ったかどうかを示すhome_win列を作成\n",
    "df_match[\"home_win\"] = 0\n",
    "df_match[\"home_win\"][df_match[\"home_score\"]>df_match[\"away_score\"]] = 1\n",
    "df_match[\"home_win\"][df_match[\"home_score\"]<df_match[\"away_score\"]] = -1\n",
    "\n",
    "# japan_home_dummy列とhome_win列の値に基づいてresult列を作成\n",
    "df_match[\"result\"] = 0\n",
    "# 日本がホームかつホームの点数が高い場合\n",
    "df_match[\"result\"][(df_match[\"japan_home_dummy\"]==1)&(df_match[\"home_win\"]==1)] = 1\n",
    "# 日本がホームかつアウェイの点数が高い場合\n",
    "df_match[\"result\"][(df_match[\"japan_home_dummy\"]==1)&(df_match[\"home_win\"]==-1)]= -1\n",
    "# 日本がアウェイかつホームの点数が高い場合\n",
    "df_match[\"result\"][(df_match[\"japan_home_dummy\"]==0)&(df_match[\"home_win\"]==1)] = -1\n",
    "# 日本がアウェイかつアウェイの点数が高い場合\n",
    "df_match[\"result\"][(df_match[\"japan_home_dummy\"]==0)&(df_match[\"home_win\"]==-1)] = 1\n",
    "\n",
    "# 日本戦のみ抽出\n",
    "df_japan = df_match.query('home_team == \"Japan\" | away_team == \"Japan\"')"
   ]
  },
  {
   "cell_type": "markdown",
   "metadata": {},
   "source": [
    "## 1-2 データの性質を理解する"
   ]
  },
  {
   "cell_type": "markdown",
   "metadata": {},
   "source": [
    "Pandasからデータの性質を分析していきます。このことは、データの前処理を行うかの方針を立てるために必要な作業です。<br>\n",
    "- **どの特徴量がデータセットで使えるか**<br>\n",
    "Pandasを使って、どのような変数（特徴量）が存在するのか、見てみます。プログラミングにおける変数と区別するために、以降、分析における変数は「特徴量」と記載します。まずはdf_japanの列名を確認してみます。データセットの列名が特徴量です。\n",
    "<br><br>\n",
    "- **どのようなデータが入っているか**<br>\n",
    "では、df_japanのデータの中身を確認してみます。すべて見ると大変なので、先頭5行と、後ろから5行を見てみます。"
   ]
  },
  {
   "cell_type": "code",
   "execution_count": 377,
   "metadata": {
    "scrolled": true
   },
   "outputs": [
    {
     "name": "stdout",
     "output_type": "stream",
     "text": [
      "['date' 'home_team' 'away_team' 'away_score' 'home_score' 'tournament'\n",
      " 'city' 'country' 'neutral' 'japan_home_dummy' 'home_win' 'result']\n"
     ]
    },
    {
     "data": {
      "text/html": [
       "<div>\n",
       "<style scoped>\n",
       "    .dataframe tbody tr th:only-of-type {\n",
       "        vertical-align: middle;\n",
       "    }\n",
       "\n",
       "    .dataframe tbody tr th {\n",
       "        vertical-align: top;\n",
       "    }\n",
       "\n",
       "    .dataframe thead th {\n",
       "        text-align: right;\n",
       "    }\n",
       "</style>\n",
       "<table border=\"1\" class=\"dataframe\">\n",
       "  <thead>\n",
       "    <tr style=\"text-align: right;\">\n",
       "      <th></th>\n",
       "      <th>date</th>\n",
       "      <th>home_team</th>\n",
       "      <th>away_team</th>\n",
       "      <th>away_score</th>\n",
       "      <th>home_score</th>\n",
       "      <th>tournament</th>\n",
       "      <th>city</th>\n",
       "      <th>country</th>\n",
       "      <th>neutral</th>\n",
       "      <th>japan_home_dummy</th>\n",
       "      <th>home_win</th>\n",
       "      <th>result</th>\n",
       "    </tr>\n",
       "  </thead>\n",
       "  <tbody>\n",
       "    <tr>\n",
       "      <td>454</td>\n",
       "      <td>1917-05-07</td>\n",
       "      <td>Japan</td>\n",
       "      <td>Philippines</td>\n",
       "      <td>15</td>\n",
       "      <td>2</td>\n",
       "      <td>Friendly</td>\n",
       "      <td>Tokyo</td>\n",
       "      <td>Japan</td>\n",
       "      <td>False</td>\n",
       "      <td>1</td>\n",
       "      <td>-1</td>\n",
       "      <td>-1</td>\n",
       "    </tr>\n",
       "    <tr>\n",
       "      <td>584</td>\n",
       "      <td>1921-05-30</td>\n",
       "      <td>Japan</td>\n",
       "      <td>Philippines</td>\n",
       "      <td>3</td>\n",
       "      <td>0</td>\n",
       "      <td>Friendly</td>\n",
       "      <td>Shanghai</td>\n",
       "      <td>China PR</td>\n",
       "      <td>True</td>\n",
       "      <td>1</td>\n",
       "      <td>-1</td>\n",
       "      <td>-1</td>\n",
       "    </tr>\n",
       "    <tr>\n",
       "      <td>713</td>\n",
       "      <td>1923-05-24</td>\n",
       "      <td>Japan</td>\n",
       "      <td>China PR</td>\n",
       "      <td>5</td>\n",
       "      <td>1</td>\n",
       "      <td>Friendly</td>\n",
       "      <td>Osaka</td>\n",
       "      <td>Japan</td>\n",
       "      <td>False</td>\n",
       "      <td>1</td>\n",
       "      <td>-1</td>\n",
       "      <td>-1</td>\n",
       "    </tr>\n",
       "    <tr>\n",
       "      <td>877</td>\n",
       "      <td>1925-05-20</td>\n",
       "      <td>China PR</td>\n",
       "      <td>Japan</td>\n",
       "      <td>0</td>\n",
       "      <td>2</td>\n",
       "      <td>Friendly</td>\n",
       "      <td>Manila</td>\n",
       "      <td>Philippines</td>\n",
       "      <td>True</td>\n",
       "      <td>0</td>\n",
       "      <td>1</td>\n",
       "      <td>-1</td>\n",
       "    </tr>\n",
       "    <tr>\n",
       "      <td>1068</td>\n",
       "      <td>1927-08-27</td>\n",
       "      <td>China PR</td>\n",
       "      <td>Japan</td>\n",
       "      <td>1</td>\n",
       "      <td>5</td>\n",
       "      <td>Friendly</td>\n",
       "      <td>Shanghai</td>\n",
       "      <td>China PR</td>\n",
       "      <td>False</td>\n",
       "      <td>0</td>\n",
       "      <td>1</td>\n",
       "      <td>-1</td>\n",
       "    </tr>\n",
       "  </tbody>\n",
       "</table>\n",
       "</div>"
      ],
      "text/plain": [
       "            date home_team    away_team  away_score  home_score tournament  \\\n",
       "454   1917-05-07     Japan  Philippines          15           2   Friendly   \n",
       "584   1921-05-30     Japan  Philippines           3           0   Friendly   \n",
       "713   1923-05-24     Japan     China PR           5           1   Friendly   \n",
       "877   1925-05-20  China PR        Japan           0           2   Friendly   \n",
       "1068  1927-08-27  China PR        Japan           1           5   Friendly   \n",
       "\n",
       "          city      country  neutral  japan_home_dummy  home_win  result  \n",
       "454      Tokyo        Japan    False                 1        -1      -1  \n",
       "584   Shanghai     China PR     True                 1        -1      -1  \n",
       "713      Osaka        Japan    False                 1        -1      -1  \n",
       "877     Manila  Philippines     True                 0         1      -1  \n",
       "1068  Shanghai     China PR    False                 0         1      -1  "
      ]
     },
     "execution_count": 377,
     "metadata": {},
     "output_type": "execute_result"
    }
   ],
   "source": [
    "#1. df_japanの特徴量（＝列名）を出力。\n",
    "print(df_japan.columns.values)\n",
    "#2. df_japanの最初から5行を出力。\n",
    "df_japan.head(5)"
   ]
  },
  {
   "cell_type": "markdown",
   "metadata": {},
   "source": [
    "ここまでの作業で特徴量の値を確認できました。次は、欠損値を確認していきます。"
   ]
  },
  {
   "cell_type": "markdown",
   "metadata": {},
   "source": [
    "## 1-3 欠損値と重複データの確認"
   ]
  },
  {
   "cell_type": "markdown",
   "metadata": {},
   "source": [
    "infoメソッドから出力した値を見てみます。確認いただくとdf_japanでは、データが全624個（件）存在することが分かっています。<br>\n",
    "データを確認すると欠損値が無いことを確認出来ましたので、今後欠損値を埋めていく作業は不要になります。<br>"
   ]
  },
  {
   "cell_type": "code",
   "execution_count": 378,
   "metadata": {
    "scrolled": true
   },
   "outputs": [
    {
     "name": "stdout",
     "output_type": "stream",
     "text": [
      "<class 'pandas.core.frame.DataFrame'>\n",
      "Int64Index: 624 entries, 454 to 41372\n",
      "Data columns (total 12 columns):\n",
      "date                624 non-null object\n",
      "home_team           624 non-null object\n",
      "away_team           624 non-null object\n",
      "away_score          624 non-null int64\n",
      "home_score          624 non-null int64\n",
      "tournament          624 non-null object\n",
      "city                624 non-null object\n",
      "country             624 non-null object\n",
      "neutral             624 non-null bool\n",
      "japan_home_dummy    624 non-null int64\n",
      "home_win            624 non-null int64\n",
      "result              624 non-null int64\n",
      "dtypes: bool(1), int64(5), object(6)\n",
      "memory usage: 59.1+ KB\n"
     ]
    },
    {
     "data": {
      "text/html": [
       "<div>\n",
       "<style scoped>\n",
       "    .dataframe tbody tr th:only-of-type {\n",
       "        vertical-align: middle;\n",
       "    }\n",
       "\n",
       "    .dataframe tbody tr th {\n",
       "        vertical-align: top;\n",
       "    }\n",
       "\n",
       "    .dataframe thead th {\n",
       "        text-align: right;\n",
       "    }\n",
       "</style>\n",
       "<table border=\"1\" class=\"dataframe\">\n",
       "  <thead>\n",
       "    <tr style=\"text-align: right;\">\n",
       "      <th></th>\n",
       "      <th>date</th>\n",
       "      <th>home_team</th>\n",
       "      <th>away_team</th>\n",
       "      <th>tournament</th>\n",
       "      <th>city</th>\n",
       "      <th>country</th>\n",
       "    </tr>\n",
       "  </thead>\n",
       "  <tbody>\n",
       "    <tr>\n",
       "      <td>count</td>\n",
       "      <td>624</td>\n",
       "      <td>624</td>\n",
       "      <td>624</td>\n",
       "      <td>624</td>\n",
       "      <td>624</td>\n",
       "      <td>624</td>\n",
       "    </tr>\n",
       "    <tr>\n",
       "      <td>unique</td>\n",
       "      <td>624</td>\n",
       "      <td>78</td>\n",
       "      <td>103</td>\n",
       "      <td>16</td>\n",
       "      <td>164</td>\n",
       "      <td>63</td>\n",
       "    </tr>\n",
       "    <tr>\n",
       "      <td>top</td>\n",
       "      <td>2001-01-23</td>\n",
       "      <td>Japan</td>\n",
       "      <td>Japan</td>\n",
       "      <td>Friendly</td>\n",
       "      <td>Tokyo</td>\n",
       "      <td>Japan</td>\n",
       "    </tr>\n",
       "    <tr>\n",
       "      <td>freq</td>\n",
       "      <td>1</td>\n",
       "      <td>369</td>\n",
       "      <td>255</td>\n",
       "      <td>238</td>\n",
       "      <td>78</td>\n",
       "      <td>255</td>\n",
       "    </tr>\n",
       "  </tbody>\n",
       "</table>\n",
       "</div>"
      ],
      "text/plain": [
       "              date home_team away_team tournament   city country\n",
       "count          624       624       624        624    624     624\n",
       "unique         624        78       103         16    164      63\n",
       "top     2001-01-23     Japan     Japan   Friendly  Tokyo   Japan\n",
       "freq             1       369       255        238     78     255"
      ]
     },
     "execution_count": 378,
     "metadata": {},
     "output_type": "execute_result"
    }
   ],
   "source": [
    "#1. df_japanの全ての特徴量について、infoメソッドを利用して欠損値の有無を確認。\n",
    "df_japan.info()\n",
    "# 1. df_japanにdescribeメソッドを利用して、データの重複を確認。\n",
    "df_japan.describe(include=['O'])"
   ]
  },
  {
   "cell_type": "markdown",
   "metadata": {},
   "source": [
    "## 2-1 特徴量の相関関係の分析"
   ]
  },
  {
   "cell_type": "markdown",
   "metadata": {},
   "source": [
    "特徴量<b>result</b>には、試合結果が格納されています。この特徴量に対し、<b>date</b>や特徴量<b>country</b>など他の特徴量がどの程度関係しているのか、調査する必要があります。関係を調べるために、相関を調べます。<br>\n",
    "まずは`月別の勝率`を調べます。"
   ]
  },
  {
   "cell_type": "code",
   "execution_count": 379,
   "metadata": {},
   "outputs": [
    {
     "data": {
      "text/html": [
       "<div>\n",
       "<style scoped>\n",
       "    .dataframe tbody tr th:only-of-type {\n",
       "        vertical-align: middle;\n",
       "    }\n",
       "\n",
       "    .dataframe tbody tr th {\n",
       "        vertical-align: top;\n",
       "    }\n",
       "\n",
       "    .dataframe thead th {\n",
       "        text-align: right;\n",
       "    }\n",
       "</style>\n",
       "<table border=\"1\" class=\"dataframe\">\n",
       "  <thead>\n",
       "    <tr style=\"text-align: right;\">\n",
       "      <th></th>\n",
       "      <th>result</th>\n",
       "    </tr>\n",
       "    <tr>\n",
       "      <th>month</th>\n",
       "      <th></th>\n",
       "    </tr>\n",
       "  </thead>\n",
       "  <tbody>\n",
       "    <tr>\n",
       "      <td>8</td>\n",
       "      <td>28</td>\n",
       "    </tr>\n",
       "    <tr>\n",
       "      <td>10</td>\n",
       "      <td>20</td>\n",
       "    </tr>\n",
       "    <tr>\n",
       "      <td>9</td>\n",
       "      <td>14</td>\n",
       "    </tr>\n",
       "    <tr>\n",
       "      <td>11</td>\n",
       "      <td>14</td>\n",
       "    </tr>\n",
       "    <tr>\n",
       "      <td>3</td>\n",
       "      <td>11</td>\n",
       "    </tr>\n",
       "    <tr>\n",
       "      <td>2</td>\n",
       "      <td>11</td>\n",
       "    </tr>\n",
       "    <tr>\n",
       "      <td>1</td>\n",
       "      <td>10</td>\n",
       "    </tr>\n",
       "    <tr>\n",
       "      <td>6</td>\n",
       "      <td>6</td>\n",
       "    </tr>\n",
       "    <tr>\n",
       "      <td>4</td>\n",
       "      <td>5</td>\n",
       "    </tr>\n",
       "    <tr>\n",
       "      <td>7</td>\n",
       "      <td>3</td>\n",
       "    </tr>\n",
       "    <tr>\n",
       "      <td>5</td>\n",
       "      <td>-1</td>\n",
       "    </tr>\n",
       "    <tr>\n",
       "      <td>12</td>\n",
       "      <td>-3</td>\n",
       "    </tr>\n",
       "  </tbody>\n",
       "</table>\n",
       "</div>"
      ],
      "text/plain": [
       "       result\n",
       "month        \n",
       "8          28\n",
       "10         20\n",
       "9          14\n",
       "11         14\n",
       "3          11\n",
       "2          11\n",
       "1          10\n",
       "6           6\n",
       "4           5\n",
       "7           3\n",
       "5          -1\n",
       "12         -3"
      ]
     },
     "execution_count": 379,
     "metadata": {},
     "output_type": "execute_result"
    }
   ],
   "source": [
    "#dateを文字からIndexDateFrameに変換\n",
    "df_japan[\"date\"] = pd.to_datetime(df_japan[\"date\"])\n",
    "df_japan.set_index(\"date\", inplace=True)\n",
    "#dateから新しく月別の”month”カラムを作成\n",
    "df_m = df_japan.set_index([df_japan.index.month, df_japan.index])\n",
    "df_m.index.names = [\"month\", \"date\"]\n",
    "#月別のresultの合計を算出\n",
    "df_m_only = df_m.sum(level=\"month\")\n",
    "df_m_only[[\"result\"]].sort_values(\"result\", ascending=False)"
   ]
  },
  {
   "cell_type": "markdown",
   "metadata": {},
   "source": [
    "上記のランキングを確認すると日本は<b>８月が１番勝ちやすい</b>ということがわかります。次に国ごとの勝率を算出してみたいと思います。"
   ]
  },
  {
   "cell_type": "code",
   "execution_count": null,
   "metadata": {},
   "outputs": [],
   "source": [
    "# 日本の勝率が高い国の辞書型データを作成\n",
    "win_count_dct = {}\n",
    "# 日本が勝ってる試合のみ抜き出せばいいのでresultが1の行のみを抽出\n",
    "for index, row in df_japan[df_japan[\"result\"]==1].iterrows():\n",
    "    # まず敵国の国名を取得\n",
    "    if row[\"japan_home_dummy\"]==1:\n",
    "        country = row[\"away_team\"]\n",
    "    else:\n",
    "        country = row[\"home_team\"]\n",
    "    # すでに辞書にその国が登録されていれば勝利数を+1して登録済みでなければ登録と同時に勝利数1を記録\n",
    "    if not country in win_count_dct:\n",
    "        win_count_dct[country] = 1\n",
    "    else:\n",
    "        win_count_dct[country] += 1\n",
    "# 勝利数が求まったので、勝率を求めるために試合回数を求める\n",
    "# 辞書に登録されている各国ごとに試合回数を求めて、勝利数を割る\n",
    "for country in win_count_dct.keys():\n",
    "    num_game = df_japan[\"away_team\"].value_counts()[country]\n",
    "    win_count_dct[country] /= num_game"
   ]
  },
  {
   "cell_type": "code",
   "execution_count": 28,
   "metadata": {},
   "outputs": [
    {
     "name": "stdout",
     "output_type": "stream",
     "text": [
      "India: 3.5\n",
      "Manchukuo: 3.0\n",
      "Burma: 3.0\n",
      "Iceland: 3.0\n",
      "Bangladesh: 3.0\n",
      "Vietnam: 3.0\n",
      "Tajikistan: 3\n",
      "Malaysia: 2.3333333333333335\n",
      "Singapore: 2.0\n",
      "Macau: 2.0\n",
      "Brunei: 2.0\n",
      "Nepal: 2.0\n",
      "Yemen: 2.0\n",
      "Qatar: 2\n",
      "Belgium: 2\n",
      "Guatemala: 2\n",
      "Jordan: 2\n",
      "Cambodia: 2\n",
      "Afghanistan: 2\n",
      "Kyrgyzstan: 2\n",
      "Hong Kong: 1.8333333333333333\n",
      "Indonesia: 1.75\n",
      "Bahrain: 1.75\n",
      "Vietnam Republic: 1.5\n",
      "Sri Lanka: 1.5\n",
      "Oman: 1.5\n",
      "Iraq: 1.4\n",
      "Tunisia: 1.3333333333333333\n",
      "Thailand: 1.3\n",
      "Syria: 1.125\n",
      "Saudi Arabia: 1.125\n",
      "Mongolia: 1.0\n",
      "Chinese Taipei: 1.0\n",
      "Luxembourg: 1.0\n",
      "Algeria: 1.0\n",
      "United States: 1.0\n",
      "Ecuador: 1.0\n",
      "Costa Rica: 1.0\n",
      "Kazakhstan: 1.0\n",
      "Egypt: 1.0\n",
      "Canada: 1.0\n",
      "Ukraine: 1.0\n",
      "New Zealand: 1.0\n",
      "Greece: 1.0\n",
      "Angola: 1.0\n",
      "Finland: 1.0\n",
      "Malta: 1.0\n",
      "Trinidad and Tobago: 1.0\n",
      "Montenegro: 1.0\n",
      "Switzerland: 1\n",
      "Bosnia and Herzegovina: 1\n",
      "Chile: 1\n",
      "Scotland: 1\n",
      "Togo: 1\n",
      "Denmark: 1\n",
      "Argentina: 1\n",
      "Azerbaijan: 1\n",
      "France: 1\n",
      "Latvia: 1\n",
      "Cyprus: 1\n",
      "Zambia: 1\n",
      "Palestine: 1\n",
      "Bulgaria: 1\n",
      "Colombia: 1\n",
      "Panama: 1\n",
      "Turkmenistan: 1\n",
      "Myanmar: 1\n",
      "North Korea: 0.8888888888888888\n",
      "Uzbekistan: 0.875\n",
      "China PR: 0.8235294117647058\n",
      "Australia: 0.8181818181818182\n",
      "Serbia: 0.75\n",
      "Cameroon: 0.75\n",
      "Philippines: 0.7142857142857143\n",
      "Ivory Coast: 0.6666666666666666\n",
      "Ghana: 0.6666666666666666\n",
      "Jamaica: 0.6666666666666666\n",
      "Slovakia: 0.6666666666666666\n",
      "Honduras: 0.6666666666666666\n",
      "United Arab Emirates: 0.6\n",
      "Iran: 0.5714285714285714\n",
      "Pakistan: 0.5\n",
      "Turkey: 0.5\n",
      "Bolivia: 0.5\n",
      "Czech Republic: 0.5\n",
      "Paraguay: 0.42857142857142855\n",
      "Poland: 0.3333333333333333\n",
      "Uruguay: 0.3333333333333333\n",
      "Croatia: 0.3333333333333333\n",
      "Nigeria: 0.3333333333333333\n",
      "South Korea: 0.275\n",
      "Russia: 0.25\n",
      "Peru: 0.25\n",
      "Mexico: 0.2\n"
     ]
    }
   ],
   "source": [
    "# 上記の辞書コードを昇順にして出力\n",
    "for k, v in sorted(win_count_dct.items(), key=lambda x: -x[1]):\n",
    "    print(str(k) + \": \" + str(v))"
   ]
  },
  {
   "cell_type": "markdown",
   "metadata": {},
   "source": [
    "やはりアジア勢が上位をしめてヨーロッパや南米が下位にいることが分かります。\n",
    "ここから３２チームに絞り、日本がどの相手国でどこで開催されれば勝ちやすいのか分析していきます。\n",
    "次は開催国と勝敗の相関関係を調べていきます。"
   ]
  },
  {
   "cell_type": "code",
   "execution_count": 380,
   "metadata": {},
   "outputs": [
    {
     "data": {
      "text/html": [
       "<div>\n",
       "<style scoped>\n",
       "    .dataframe tbody tr th:only-of-type {\n",
       "        vertical-align: middle;\n",
       "    }\n",
       "\n",
       "    .dataframe tbody tr th {\n",
       "        vertical-align: top;\n",
       "    }\n",
       "\n",
       "    .dataframe thead th {\n",
       "        text-align: right;\n",
       "    }\n",
       "</style>\n",
       "<table border=\"1\" class=\"dataframe\">\n",
       "  <thead>\n",
       "    <tr style=\"text-align: right;\">\n",
       "      <th></th>\n",
       "      <th>country</th>\n",
       "      <th>result</th>\n",
       "    </tr>\n",
       "  </thead>\n",
       "  <tbody>\n",
       "    <tr>\n",
       "      <td>23</td>\n",
       "      <td>Japan</td>\n",
       "      <td>90</td>\n",
       "    </tr>\n",
       "    <tr>\n",
       "      <td>31</td>\n",
       "      <td>Malaysia</td>\n",
       "      <td>12</td>\n",
       "    </tr>\n",
       "    <tr>\n",
       "      <td>58</td>\n",
       "      <td>United Arab Emirates</td>\n",
       "      <td>10</td>\n",
       "    </tr>\n",
       "    <tr>\n",
       "      <td>39</td>\n",
       "      <td>Oman</td>\n",
       "      <td>6</td>\n",
       "    </tr>\n",
       "    <tr>\n",
       "      <td>43</td>\n",
       "      <td>Qatar</td>\n",
       "      <td>5</td>\n",
       "    </tr>\n",
       "    <tr>\n",
       "      <td>...</td>\n",
       "      <td>...</td>\n",
       "      <td>...</td>\n",
       "    </tr>\n",
       "    <tr>\n",
       "      <td>46</td>\n",
       "      <td>Saudi Arabia</td>\n",
       "      <td>-4</td>\n",
       "    </tr>\n",
       "    <tr>\n",
       "      <td>52</td>\n",
       "      <td>Switzerland</td>\n",
       "      <td>-4</td>\n",
       "    </tr>\n",
       "    <tr>\n",
       "      <td>14</td>\n",
       "      <td>France</td>\n",
       "      <td>-6</td>\n",
       "    </tr>\n",
       "    <tr>\n",
       "      <td>5</td>\n",
       "      <td>Brazil</td>\n",
       "      <td>-7</td>\n",
       "    </tr>\n",
       "    <tr>\n",
       "      <td>50</td>\n",
       "      <td>South Korea</td>\n",
       "      <td>-10</td>\n",
       "    </tr>\n",
       "  </tbody>\n",
       "</table>\n",
       "<p>63 rows × 2 columns</p>\n",
       "</div>"
      ],
      "text/plain": [
       "                 country  result\n",
       "23                 Japan      90\n",
       "31              Malaysia      12\n",
       "58  United Arab Emirates      10\n",
       "39                  Oman       6\n",
       "43                 Qatar       5\n",
       "..                   ...     ...\n",
       "46          Saudi Arabia      -4\n",
       "52           Switzerland      -4\n",
       "14                France      -6\n",
       "5                 Brazil      -7\n",
       "50           South Korea     -10\n",
       "\n",
       "[63 rows x 2 columns]"
      ]
     },
     "execution_count": 380,
     "metadata": {},
     "output_type": "execute_result"
    }
   ],
   "source": [
    "# 開催国と勝敗のピポットテーブルを作成\n",
    "df_japan[[\"country\", \"result\"]].groupby([\"country\"], as_index=False).sum()\\\n",
    ".sort_values(by=\"result\", ascending=False)"
   ]
  },
  {
   "cell_type": "markdown",
   "metadata": {},
   "source": [
    "試合数の関係があると思いますが、やはり<b>ホーム(日本）の方が勝ちやすい</b>ということが分かります。\n",
    "ただこれだけじゃ不十分だと思うので都市ごとの勝利数を確認していきます。"
   ]
  },
  {
   "cell_type": "code",
   "execution_count": 30,
   "metadata": {
    "scrolled": true
   },
   "outputs": [
    {
     "data": {
      "text/html": [
       "<div>\n",
       "<style scoped>\n",
       "    .dataframe tbody tr th:only-of-type {\n",
       "        vertical-align: middle;\n",
       "    }\n",
       "\n",
       "    .dataframe tbody tr th {\n",
       "        vertical-align: top;\n",
       "    }\n",
       "\n",
       "    .dataframe thead th {\n",
       "        text-align: right;\n",
       "    }\n",
       "</style>\n",
       "<table border=\"1\" class=\"dataframe\">\n",
       "  <thead>\n",
       "    <tr style=\"text-align: right;\">\n",
       "      <th></th>\n",
       "      <th>city</th>\n",
       "      <th>result</th>\n",
       "    </tr>\n",
       "  </thead>\n",
       "  <tbody>\n",
       "    <tr>\n",
       "      <td>19</td>\n",
       "      <td>Saitama</td>\n",
       "      <td>23</td>\n",
       "    </tr>\n",
       "    <tr>\n",
       "      <td>24</td>\n",
       "      <td>Tokyo</td>\n",
       "      <td>15</td>\n",
       "    </tr>\n",
       "    <tr>\n",
       "      <td>26</td>\n",
       "      <td>Yokohama</td>\n",
       "      <td>9</td>\n",
       "    </tr>\n",
       "    <tr>\n",
       "      <td>3</td>\n",
       "      <td>Hiroshima</td>\n",
       "      <td>6</td>\n",
       "    </tr>\n",
       "    <tr>\n",
       "      <td>5</td>\n",
       "      <td>Kobe</td>\n",
       "      <td>6</td>\n",
       "    </tr>\n",
       "    <tr>\n",
       "      <td>17</td>\n",
       "      <td>Osaka</td>\n",
       "      <td>6</td>\n",
       "    </tr>\n",
       "    <tr>\n",
       "      <td>27</td>\n",
       "      <td>Ōita</td>\n",
       "      <td>4</td>\n",
       "    </tr>\n",
       "    <tr>\n",
       "      <td>13</td>\n",
       "      <td>Niigata</td>\n",
       "      <td>4</td>\n",
       "    </tr>\n",
       "    <tr>\n",
       "      <td>25</td>\n",
       "      <td>Toyota</td>\n",
       "      <td>4</td>\n",
       "    </tr>\n",
       "    <tr>\n",
       "      <td>21</td>\n",
       "      <td>Shizuoka</td>\n",
       "      <td>2</td>\n",
       "    </tr>\n",
       "    <tr>\n",
       "      <td>0</td>\n",
       "      <td>Chōfu</td>\n",
       "      <td>2</td>\n",
       "    </tr>\n",
       "    <tr>\n",
       "      <td>2</td>\n",
       "      <td>Fukuroi</td>\n",
       "      <td>2</td>\n",
       "    </tr>\n",
       "    <tr>\n",
       "      <td>4</td>\n",
       "      <td>Kashima</td>\n",
       "      <td>2</td>\n",
       "    </tr>\n",
       "    <tr>\n",
       "      <td>8</td>\n",
       "      <td>Matsuyama</td>\n",
       "      <td>1</td>\n",
       "    </tr>\n",
       "    <tr>\n",
       "      <td>20</td>\n",
       "      <td>Sapporo</td>\n",
       "      <td>1</td>\n",
       "    </tr>\n",
       "    <tr>\n",
       "      <td>6</td>\n",
       "      <td>Kumamoto</td>\n",
       "      <td>1</td>\n",
       "    </tr>\n",
       "    <tr>\n",
       "      <td>23</td>\n",
       "      <td>Tendo</td>\n",
       "      <td>1</td>\n",
       "    </tr>\n",
       "    <tr>\n",
       "      <td>7</td>\n",
       "      <td>Kyoto</td>\n",
       "      <td>1</td>\n",
       "    </tr>\n",
       "    <tr>\n",
       "      <td>14</td>\n",
       "      <td>Nishinomiya</td>\n",
       "      <td>1</td>\n",
       "    </tr>\n",
       "    <tr>\n",
       "      <td>9</td>\n",
       "      <td>Miyagi</td>\n",
       "      <td>1</td>\n",
       "    </tr>\n",
       "    <tr>\n",
       "      <td>15</td>\n",
       "      <td>Okayama</td>\n",
       "      <td>1</td>\n",
       "    </tr>\n",
       "    <tr>\n",
       "      <td>22</td>\n",
       "      <td>Suita</td>\n",
       "      <td>0</td>\n",
       "    </tr>\n",
       "    <tr>\n",
       "      <td>16</td>\n",
       "      <td>Onomichi</td>\n",
       "      <td>0</td>\n",
       "    </tr>\n",
       "    <tr>\n",
       "      <td>1</td>\n",
       "      <td>Fukuoka</td>\n",
       "      <td>0</td>\n",
       "    </tr>\n",
       "    <tr>\n",
       "      <td>11</td>\n",
       "      <td>Nagoya</td>\n",
       "      <td>0</td>\n",
       "    </tr>\n",
       "    <tr>\n",
       "      <td>12</td>\n",
       "      <td>Naruto</td>\n",
       "      <td>-1</td>\n",
       "    </tr>\n",
       "    <tr>\n",
       "      <td>18</td>\n",
       "      <td>Rifu</td>\n",
       "      <td>-1</td>\n",
       "    </tr>\n",
       "    <tr>\n",
       "      <td>10</td>\n",
       "      <td>Nagasaki</td>\n",
       "      <td>-1</td>\n",
       "    </tr>\n",
       "  </tbody>\n",
       "</table>\n",
       "</div>"
      ],
      "text/plain": [
       "           city  result\n",
       "19      Saitama      23\n",
       "24        Tokyo      15\n",
       "26     Yokohama       9\n",
       "3     Hiroshima       6\n",
       "5          Kobe       6\n",
       "17        Osaka       6\n",
       "27         Ōita       4\n",
       "13      Niigata       4\n",
       "25       Toyota       4\n",
       "21     Shizuoka       2\n",
       "0         Chōfu       2\n",
       "2       Fukuroi       2\n",
       "4       Kashima       2\n",
       "8     Matsuyama       1\n",
       "20      Sapporo       1\n",
       "6      Kumamoto       1\n",
       "23        Tendo       1\n",
       "7         Kyoto       1\n",
       "14  Nishinomiya       1\n",
       "9        Miyagi       1\n",
       "15      Okayama       1\n",
       "22        Suita       0\n",
       "16     Onomichi       0\n",
       "1       Fukuoka       0\n",
       "11       Nagoya       0\n",
       "12       Naruto      -1\n",
       "18         Rifu      -1\n",
       "10     Nagasaki      -1"
      ]
     },
     "execution_count": 30,
     "metadata": {},
     "output_type": "execute_result"
    }
   ],
   "source": [
    "# 開催地（都市）と勝敗のピポットテーブルを作成\n",
    "df_japan[df_japan[\"country\"]==\"Japan\"][[\"city\", \"result\"]].groupby([\"city\"], as_index=False).sum()\\\n",
    ".sort_values(by=\"result\", ascending=False)"
   ]
  },
  {
   "cell_type": "code",
   "execution_count": 1008,
   "metadata": {},
   "outputs": [
    {
     "name": "stdout",
     "output_type": "stream",
     "text": [
      "埼玉の勝率:59%,　東京の勝率:19%, 横浜の勝率31%, 広島の勝率60%, 神戸の勝率55%, 大阪の勝率32%\n"
     ]
    }
   ],
   "source": [
    "# 上記のランキングから上位６都市の勝率を算出\n",
    "# 埼玉の勝率を取得\n",
    "saitama = df_japan[df_japan[\"city\"]==\"Saitama\"]\n",
    "saitama_all = len(saitama.result)\n",
    "saitama_result = (round(23 / saitama_all *100))\n",
    "# 東京の勝率を取得\n",
    "tokyo = df_japan[df_japan[\"city\"]==\"Tokyo\"]\n",
    "tokyo_all = len(tokyo.result)\n",
    "tokyo_result = (round(15 / tokyo_all *100))\n",
    "# 横浜の勝率を取得\n",
    "yokohama = df_japan[df_japan[\"city\"]==\"Yokohama\"]\n",
    "yokohama_all = len(yokohama.result)\n",
    "yokohama_result = (round(9 / yokohama_all *100))\n",
    "# 広島の勝率を取得\n",
    "hiroshima = df_japan[df_japan[\"city\"]==\"Hiroshima\"]\n",
    "hiroshima_all = len(hiroshima.result)\n",
    "hiroshima_result = (round(6 / hiroshima_all *100))\n",
    "# 神戸の勝率を取得\n",
    "kobe = df_japan[df_japan[\"city\"]==\"Kobe\"]\n",
    "kobe_all = len(kobe.result)\n",
    "kobe_result = (round(6 / kobe_all *100))\n",
    "# 大阪の勝率を取得\n",
    "osaka = df_japan[df_japan[\"city\"]==\"Osaka\"]\n",
    "osaka_all = len(osaka.result)\n",
    "osaka_result = (round(6 / osaka_all *100))\n",
    "# \n",
    "print('埼玉の勝率:{0}%,　東京の勝率:{1}%, 横浜の勝率{2}%, 広島の勝率{3}%, 神戸の勝率{4}%, 大阪の勝率{5}%'.\\\n",
    "      format(saitama_result, tokyo_result, yokohama_result, hiroshima_result, kobe_result, osaka_result))"
   ]
  },
  {
   "cell_type": "markdown",
   "metadata": {},
   "source": [
    "上記6都市から勝率の高い<b>広島、埼玉、神戸</b>の３都市で日本戦は開催したいと思います。今までの相関関係から以下の条件のワールドカップ開催とします。\n",
    "### 開催国：日本(51%)\n",
    "### 日本戦の会場地：広島(60%)・埼玉(59%)・神戸(55%)\n",
    "### 開催時期：８月(61%)\n",
    "### ※(%)=勝率"
   ]
  },
  {
   "cell_type": "markdown",
   "metadata": {},
   "source": [
    "## 2-2 データの可視化"
   ]
  },
  {
   "cell_type": "markdown",
   "metadata": {},
   "source": [
    "今度は、データを可視化して、いくつかの前提を確認していきます。<br>\n",
    "数値データと目標（結果）との相関を理解することから始めます。 ヒストグラムは、指定した等間隔の範囲を使用して、データの分布を作成することができます。\n",
    "ホームで開催することが前提なので、ホームとアウェイで勝率の乖離がどれだけあるのか可視化してみます。"
   ]
  },
  {
   "cell_type": "code",
   "execution_count": 616,
   "metadata": {},
   "outputs": [
    {
     "data": {
      "image/png": "[encoded data removed]",
      "text/plain": [
       "<Figure size 432x288 with 2 Axes>"
      ]
     },
     "metadata": {
      "needs_background": "light"
     },
     "output_type": "display_data"
    }
   ],
   "source": [
    "# df_japanからホームとアウェイに分類\n",
    "home=df_japan[df_japan[\"japan_home_dummy\"]==1]\n",
    "away=df_japan[df_japan[\"japan_home_dummy\"]==0]\n",
    "\n",
    "# ホームの勝敗のグラフを作成\n",
    "fig = plt.figure()\n",
    "ax1 = fig.add_subplot(1, 2, 1)\n",
    "home[\"result\"].hist(bins=10)\n",
    "\n",
    "# X、Y軸とタイトルのラベル名を指定\n",
    "ax1.set_xlabel(\"-1=lose  :  0=draw  :  1=win\")\n",
    "ax1.set_ylabel(\"match\")\n",
    "ax1.set_title(\"home\")\n",
    "\n",
    "# アウェイの勝敗のグラフを作成\n",
    "ax2 = fig.add_subplot(1, 2, 2)\n",
    "away[\"result\"].hist(bins=10)\n",
    "\n",
    "# X、Y軸とタイトルのラベル名を指定\n",
    "ax2.set_xlabel(\"-1=lose  :  0=draw  :  1=win\")\n",
    "ax2.set_ylabel(\"match\")\n",
    "ax2.set_title(\"away\")\n",
    "\n",
    "# グラフ間のスペースを調整\n",
    "plt.subplots_adjust(wspace=0.4)\n",
    "\n",
    "plt.show()"
   ]
  },
  {
   "cell_type": "markdown",
   "metadata": {},
   "source": [
    "次は勝敗別でホームとアウェイを確認します。"
   ]
  },
  {
   "cell_type": "code",
   "execution_count": 196,
   "metadata": {},
   "outputs": [
    {
     "data": {
      "image/png": "[encoded data removed]",
      "text/plain": [
       "<Figure size 432x288 with 3 Axes>"
      ]
     },
     "metadata": {
      "needs_background": "light"
     },
     "output_type": "display_data"
    }
   ],
   "source": [
    "# 　df_japanから勝敗別に分類\n",
    "lose=df_japan[df_japan[\"result\"]==-1]\n",
    "draw=df_japan[df_japan[\"result\"]==0]\n",
    "win=df_japan[df_japan[\"result\"]==1]\n",
    "\n",
    "# 負けた時のホームとアウェイのグラフを作成\n",
    "fig = plt.figure()\n",
    "ax1 = fig.add_subplot(1, 3, 1)\n",
    "lose[\"japan_home_dummy\"].hist(bins=5)\n",
    "\n",
    "# X、Y軸とタイトルのラベル名を指定\n",
    "ax1.set_xlabel(\"0=away : 1=home\")\n",
    "ax1.set_ylabel(\"match\")\n",
    "ax1.set_title(\"lose\")\n",
    "\n",
    "# 引き分けのホームとアウェイのグラフを作成\n",
    "ax2 = fig.add_subplot(1, 3, 2)\n",
    "draw[\"japan_home_dummy\"].hist(bins=5)\n",
    "\n",
    "# X、Y軸とタイトルのラベル名を指定\n",
    "ax2.set_xlabel(\"0=away : 1=home\")\n",
    "ax2.set_ylabel(\"match\")\n",
    "ax2.set_title(\"draw\")\n",
    "\n",
    "# 勝利した時のホームとアウェイのグラフを作成\n",
    "ax3 = fig.add_subplot(1, 3, 3)\n",
    "win[\"japan_home_dummy\"].hist(bins=5)\n",
    "\n",
    "# X、Y軸とタイトルのラベル名を指定\n",
    "ax3.set_xlabel(\"0=away : 1=home\")\n",
    "ax3.set_ylabel(\"match\")\n",
    "ax3.set_title(\"win\")\n",
    "\n",
    "# グラフ間のスペースを調整\n",
    "plt.subplots_adjust(wspace=0.8)\n",
    "\n",
    "plt.show()"
   ]
  },
  {
   "cell_type": "markdown",
   "metadata": {},
   "source": [
    "ホームだと勝率が高いのに対し、アウェイだと勝率が低いことが可視化されました。"
   ]
  },
  {
   "cell_type": "markdown",
   "metadata": {},
   "source": [
    "## 3-1 出場国チームの選別\n",
    "ワールドカップの出場枠は下記エリア毎の計32チームになります。`2-1`から勝率が高い順位に選別しました。\n",
    "また選別に際して、FIFAランキングが１００位以下の国は出場率が非常に低いため今回は除外します。ここから今までの実績に基づいて優勝できる組み合わせを作成していきます。<br>\n",
    "FIFAランキングはこちらのサイトから引用しています。（）内の数値はFIFAランキングです。（2019年12月19日発表）<br>\n",
    "https://fifaranking.net/ranking/<br>"
   ]
  },
  {
   "cell_type": "markdown",
   "metadata": {},
   "source": [
    "|南米|欧州|アフリカ|アジア|北中米カリブ海|オセアニア|出場国|\n",
    "|:--:|:--:|:--:|:--:|:--:|:--:|:--:|\n",
    "|4.5カ国|13カ国|4カ国|4.5カ国|3.5カ国|0.5カ国|1カ国|\n",
    "|↓|↓|↓|↓|↓|↓|↓|\n",
    "|アルゼンチン(９)|ベルギー(１)|チュニジア(27)|カタール(55)|アメリカ(22)| |日本(28)|\n",
    "|コロンビア(10)|フランス(2)|アルジェリア(35)|サウジアラビア(67)|コスタリカ(46)| | |\n",
    "|チリ(17)|デンマーク(16)|エジプト(51)|イラク(70)|カナダ(73)| | |\n",
    "|エクアドル(63)|スウェーデン(17)|カメルーン(53)|シリア(79)|パナマ(81)| | |\n",
    "|ボリビア（76)|ウクライナ(24)| |オマーン(82)| | | |\n",
    "| |セルビア(29)| | | | | |\n",
    "| |スロバキア(32)| | | | | |\n",
    "| |アイスランド(39)| | | | | |\n",
    "| |スコットランド(50)| | | | | |\n",
    "| |ギリシャ(54)| | | | | |\n",
    "| |フィンランド(58)| | | | | |\n",
    "| |ブルガリア(59)| | | | | |\n",
    "| |ルクセンブルク(98)| | | |\n",
    "\n",
    "\n"
   ]
  },
  {
   "cell_type": "markdown",
   "metadata": {},
   "source": [
    "勝率の高い国から３２チームの選別が完了したのでいよいよ試合開始といきたいところですが、まずはワールドカップのルールから説明します。<br>\n",
    "最初に４チーム総当たりのグループリーグを開始します。そこから負け０　引き分け１　勝利３　という換算で上位２チームが決勝トーナメントに進出です。\n",
    "もし勝ち点が同じの場合、得失点差になります。"
   ]
  },
  {
   "cell_type": "markdown",
   "metadata": {},
   "source": [
    "## 3-2 グループリーグの組み合わせ"
   ]
  },
  {
   "cell_type": "markdown",
   "metadata": {},
   "source": [
    "組み合わせ方は、FIFAルールに則り振り分けていきます。ルールを詳しく知りたい方は下記ホームページを参考にして下さい。<br>\n",
    "またFIFAの規定に則った上で日本が勝率の高い国と組み合わせていきます。<br>\n",
    "https://national-soccer.com/2017/11/26/2018wc-draw/\n",
    "\n",
    "|A|B|C|D|E|F|G|H|\n",
    "|:-:|:-:|:-:|:-:|:-:|:-:|:-:|:-:|\n",
    "|ベルギー（１）|フランス(2)|アルゼンチン(9)|コロンビア(10)|デンマーク(16)|チリ(17)|スウェーデン(17)|日本(28)|\n",
    "|コスタリカ（４６）|アイスランド(39)|アルジェリア(35)|スロバキア(32)|セルビア(29)|チュニジア(27)|アメリカ(22)|ウクライナ(24)|\n",
    "|スコットランド(50)|エジプト(51)|カメルーン（53）|ギリシャ（54）|カタール(55)|フィンランド(58)|ブルガリア(59)|エクアドル（63）|\n",
    "|ルクセンブルク(98)|サウジアラビア(67)|パナマ(81)|シリア(79)|ボリビア(76)|カナダ(73)|オマーン(82)|イラク（70）|"
   ]
  },
  {
   "cell_type": "markdown",
   "metadata": {},
   "source": [
    "## 3-3 勝敗の決め方"
   ]
  },
  {
   "cell_type": "markdown",
   "metadata": {},
   "source": [
    "一番重要な部分になりますが、今回は過去の試合結果を基に勝敗を決める３つの要素を用意しました。<br>\n",
    "<b>上記3点をもとに高い方に１点ずつ加え、試合の勝敗を決めていきたいと思います。</b>もし決勝トーナメントで同点の場合は、FIFAランキングが上位の国を勝利とします。試しに`日本VSイラク`で実行していきます。<br>\n",
    "①７〜９月の勝率を足した合計値が高い方（例：７月勝率５３％＋８月４７％＋４９％＝１４９）<br>\n",
    "②アウェイでの勝率が高い(日本のみホームの勝率で比較）<br>\n",
    "③過去の試合結果から勝率の高い<br>"
   ]
  },
  {
   "cell_type": "code",
   "execution_count": 880,
   "metadata": {},
   "outputs": [],
   "source": [
    "# イラクがホームかアウェイかを示すjapan_home_dummy列を作成\n",
    "df_match[\"iraq_home_dummy\"] = 0\n",
    "df_match[\"iraq_home_dummy\"][df_match[\"home_team\"]==\"Iraq\"] = 1\n",
    "\n",
    "\n",
    "# ホームチームが勝ったかどうかを示すhome_win列を作成\n",
    "df_match[\"home_win\"] = 0\n",
    "df_match[\"home_win\"][df_match[\"home_score\"]>df_match[\"away_score\"]] = 1\n",
    "df_match[\"home_win\"][df_match[\"home_score\"]<df_match[\"away_score\"]] = -1\n",
    "\n",
    "# iraq_home_dummy列とhome_win列の値に基づいてresult列を作成\n",
    "df_match[\"result\"] = 0\n",
    "#イラクがホームかつホームの点数が高い場合\n",
    "df_match[\"result\"][(df_match[\"iraq_home_dummy\"]==1)&(df_match[\"home_win\"]==1)] = 1\n",
    "# イラクがホームかつアウェイの点数が高い場合\n",
    "df_match[\"result\"][(df_match[\"iraq_home_dummy\"]==1)&(df_match[\"home_win\"]==-1)]= -1\n",
    "# イラクがアウェイかつホームの点数が高い場合\n",
    "df_match[\"result\"][(df_match[\"iraq_home_dummy\"]==0)&(df_match[\"home_win\"]==1)] = -1\n",
    "# イラクがアウェイかつアウェイの点数が高い場合\n",
    "df_match[\"result\"][(df_match[\"iraq_home_dummy\"]==0)&(df_match[\"home_win\"]==-1)] = 1\n",
    "\n",
    "# イラク戦のみ抽出\n",
    "df_iraq = df_match.query('home_team == \"Iraq\" | away_team == \"Iraq\"')"
   ]
  },
  {
   "cell_type": "markdown",
   "metadata": {},
   "source": [
    "### ①ホームの勝率で対戦"
   ]
  },
  {
   "cell_type": "code",
   "execution_count": 815,
   "metadata": {},
   "outputs": [],
   "source": [
    "#日本のホームのみ抽出し、ホームでの総試合数を取得\n",
    "home_japan = df_japan[df_japan[\"japan_home_dummy\"]==1]\n",
    "home_japan_result = len(home_japan.result) \n",
    "#ホームから勝利した回数を取得\n",
    "home_japan_win = home_japan[home_japan[\"result\"]==1]\n",
    "home_japan_win2 = len(home_japan_win.result)\n",
    "#ホームでの勝利数からホームの総試合数を割、勝率を算出\n",
    "japan_result = (round(home_japan_win2 / home_japan_result *100))"
   ]
  },
  {
   "cell_type": "code",
   "execution_count": 943,
   "metadata": {},
   "outputs": [],
   "source": [
    "#イラクのホームのみ抽出し、ホームでの総試合数を取得\n",
    "away_iraq = df_iraq[df_iraq[\"iraq_home_dummy\"]==0]\n",
    "away_iraq_result = len(away_iraq.result)\n",
    "#ホームから勝利した回数を取得\n",
    "away_iraq_win = away_iraq[away_iraq[\"result\"]==1]\n",
    "away_iraq_win2 = len(away_iraq_win.result)\n",
    "#ホームでの勝利数からホームの総試合数を割、勝率を算出\n",
    "iraq_result = (round(away_iraq_win2 / away_iraq_result *100))"
   ]
  },
  {
   "cell_type": "code",
   "execution_count": 957,
   "metadata": {},
   "outputs": [
    {
     "name": "stdout",
     "output_type": "stream",
     "text": [
      "日本ホーム勝率:51%,　イラクアウェイ勝率:33%\n"
     ]
    }
   ],
   "source": [
    "print('日本ホーム勝率:{0}%,　イラクアウェイ勝率:{1}%'.format(japan_result, iraq_result))"
   ]
  },
  {
   "cell_type": "markdown",
   "metadata": {},
   "source": [
    "### ②７〜９までの勝率で対戦"
   ]
  },
  {
   "cell_type": "code",
   "execution_count": 858,
   "metadata": {},
   "outputs": [],
   "source": [
    "#dateを文字からIndexDateFrameに変換\n",
    "df_japan[\"date\"] = pd.to_datetime(df_japan[\"date\"])\n",
    "df_japan.set_index(\"date\", inplace=True)\n",
    "#dateから新しく月別の”month”カラムを作成\n",
    "df_m_japan = df_japan.set_index([df_japan.index.month, df_japan.index])\n",
    "df_m_japan.index.names = [\"month\", \"date\"]"
   ]
  },
  {
   "cell_type": "code",
   "execution_count": 884,
   "metadata": {},
   "outputs": [],
   "source": [
    "#出力時にIndexが邪魔になるので削除\n",
    "df_japan_jun = df_m_japan.reset_index()\n",
    "#日本戦で7月に行われた試合を抽出、7月の総試合数を取得\n",
    "df_jun_only = df_japan_jun[df_japan_jun[\"month\"]==7]\n",
    "df_jun_total = len(df_jun_only.result)\n",
    "#7月から勝利した回数を取得\n",
    "df_jun_win = df_jun_only[df_jun_only[\"result\"]==1]\n",
    "df_jun_win2 = len(df_jun_win.result)\n",
    "#7月内の勝利数から7月の総勝利数を割、勝率を算出\n",
    "japan_jun_result = (round(df_jun_win2 / df_jun_total *100))"
   ]
  },
  {
   "cell_type": "code",
   "execution_count": 885,
   "metadata": {},
   "outputs": [],
   "source": [
    "#出力時にIndexが邪魔になるので削除\n",
    "df_japan_aug = df_m_japan.reset_index()\n",
    "#日本戦で８月に行われた試合を抽出、８月の総試合数を取得\n",
    "df_aug_only = df_japan_aug[df_japan_aug[\"month\"]==8]\n",
    "df_aug_total = len(df_aug_only.result)\n",
    "#８月から勝利した回数を取得\n",
    "df_aug_win = df_aug_only[df_aug_only[\"result\"]==1]\n",
    "df_aug_win2 = len(df_aug_win.result)\n",
    "#８月内の勝利数から８月の総勝利数を割、勝率を算出\n",
    "japan_aug_result = (round(df_aug_win2 / df_aug_total *100))"
   ]
  },
  {
   "cell_type": "code",
   "execution_count": 887,
   "metadata": {},
   "outputs": [],
   "source": [
    "#出力時にIndexが邪魔になるので削除\n",
    "df_japan_sep = df_m_japan.reset_index()\n",
    "#日本戦で9月に行われた試合を抽出、9月の総試合数を取得\n",
    "df_sep_only = df_japan_sep[df_japan_sep[\"month\"]==9]\n",
    "df_sep_total = len(df_sep_only.result)\n",
    "#9月から勝利した回数を取得\n",
    "df_sep_win = df_sep_only[df_sep_only[\"result\"]==1]\n",
    "df_sep_win2 = len(df_sep_win.result)\n",
    "#9月内の勝利数から9月の総勝利数を割、勝率を算出\n",
    "japan_sep_result = (round(df_sep_win2 / df_sep_total *100))"
   ]
  },
  {
   "cell_type": "code",
   "execution_count": 881,
   "metadata": {},
   "outputs": [],
   "source": [
    "#dateを文字からIndexDateFrameに変換\n",
    "df_iraq[\"date\"] = pd.to_datetime(df_iraq[\"date\"])\n",
    "df_iraq.set_index(\"date\", inplace=True)\n",
    "#dateから新しく月別の”month”カラムを作成\n",
    "df_m_iraq = df_iraq.set_index([df_iraq.index.month, df_iraq.index])\n",
    "df_m_iraq.index.names = [\"month\", \"date\"]"
   ]
  },
  {
   "cell_type": "code",
   "execution_count": 890,
   "metadata": {},
   "outputs": [],
   "source": [
    "#出力時にIndexが邪魔になるので削除\n",
    "df_iraq_jun = df_m_iraq.reset_index()\n",
    "#イラク戦で7月に行われた試合を抽出、7月の総試合数を取得\n",
    "df_jun_only = df_iraq_jun[df_iraq_jun[\"month\"]==7]\n",
    "df_jun_total = len(df_jun_only.result)\n",
    "#7月から勝利した回数を取得\n",
    "df_jun_win = df_jun_only[df_jun_only[\"result\"]==1]\n",
    "df_jun_win2 = len(df_jun_win.result)\n",
    "#7月内の勝利数から7月の総勝利数を割、勝率を算出\n",
    "iraq_jun_result = (round(df_jun_win2 / df_jun_total *100))"
   ]
  },
  {
   "cell_type": "code",
   "execution_count": 891,
   "metadata": {},
   "outputs": [],
   "source": [
    "#出力時にIndexが邪魔になるので削除\n",
    "df_iraq_aug = df_m_iraq.reset_index()\n",
    "#イラク戦で８月に行われた試合を抽出、８月の総試合数を取得\n",
    "df_aug_only = df_iraq_aug[df_iraq_aug[\"month\"]==8]\n",
    "df_aug_total = len(df_aug_only.result)\n",
    "#８月から勝利した回数を取得\n",
    "df_aug_win = df_aug_only[df_aug_only[\"result\"]==1]\n",
    "df_aug_win2 = len(df_aug_win.result)\n",
    "#８月内の勝利数から８月の総勝利数を割、勝率を算出\n",
    "iraq_aug_result = (round(df_aug_win2 / df_aug_total *100))"
   ]
  },
  {
   "cell_type": "code",
   "execution_count": 892,
   "metadata": {},
   "outputs": [],
   "source": [
    "#出力時にIndexが邪魔になるので削除\n",
    "df_iraq_sep = df_m_iraq.reset_index()\n",
    "#イラク戦で9月に行われた試合を抽出、9月の総試合数を取得\n",
    "df_sep_only = df_iraq_sep[df_iraq_sep[\"month\"]==9]\n",
    "df_sep_total = len(df_sep_only.result)\n",
    "#9月から勝利した回数を取得\n",
    "df_sep_win = df_sep_only[df_sep_only[\"result\"]==1]\n",
    "df_sep_win2 = len(df_sep_win.result)\n",
    "#9月内の勝利数から9月の総勝利数を割、勝率を算出\n",
    "iraq_sep_result = (round(df_sep_win2 / df_sep_total *100))"
   ]
  },
  {
   "cell_type": "code",
   "execution_count": 895,
   "metadata": {},
   "outputs": [],
   "source": [
    "#7~9月の勝率の和を取得\n",
    "japan_seson_result = japan_jun_result + japan_aug_result + japan_sep_result\n",
    "iraq_seson_result = iraq_jun_result + iraq_aug_result + iraq_sep_result"
   ]
  },
  {
   "cell_type": "code",
   "execution_count": 956,
   "metadata": {},
   "outputs": [
    {
     "name": "stdout",
     "output_type": "stream",
     "text": [
      "日本7~9月勝率:158,　イラク7~9月勝率:146\n"
     ]
    }
   ],
   "source": [
    "print('日本7~9月勝率:{0},　イラク7~9月勝率:{1}'.format(japan_seson_result, iraq_seson_result))"
   ]
  },
  {
   "cell_type": "markdown",
   "metadata": {},
   "source": [
    "### ③過去の試合結果の勝率で対戦"
   ]
  },
  {
   "cell_type": "code",
   "execution_count": 977,
   "metadata": {},
   "outputs": [],
   "source": [
    "#日本VSイラクの過去の試合結果を確認。\n",
    "japan_iraq = df_japan.reset_index()\n",
    "japan_iraq = japan_iraq.query('home_team == \"Iraq\" | away_team == \"Iraq\"')\n",
    "#過去の勝利数を求める\n",
    "japan_iraq_result = japan_iraq[\"result\"].sum()"
   ]
  },
  {
   "cell_type": "code",
   "execution_count": 978,
   "metadata": {},
   "outputs": [],
   "source": [
    "#イラクVS日本の過去の試合結果を確認。\n",
    "iraq_japan = df_iraq.reset_index()\n",
    "iraq_japan = iraq_japan.query('home_team == \"Japan\" | away_team == \"Japan\"')\n",
    "#過去の勝利数を求める\n",
    "iraq_japan_result = iraq_japan[\"result\"].sum()"
   ]
  },
  {
   "cell_type": "code",
   "execution_count": 979,
   "metadata": {},
   "outputs": [
    {
     "name": "stdout",
     "output_type": "stream",
     "text": [
      "日本勝利数:6回,　イラク勝利数:-6回\n"
     ]
    }
   ],
   "source": [
    "print('日本勝利数:{0}回,　イラク勝利数:{1}回'.format(japan_iraq_result, iraq_japan_result))"
   ]
  },
  {
   "cell_type": "markdown",
   "metadata": {},
   "source": [
    "### ①〜③の結果をまとめ"
   ]
  },
  {
   "cell_type": "code",
   "execution_count": 1011,
   "metadata": {},
   "outputs": [],
   "source": [
    "#日本対イラクの①〜③までの対戦結果を格納するクラスを作成\n",
    "japan_final = 0\n",
    "iraq_final = 0\n",
    "\n",
    "#①の結果を格納\n",
    "if japan_result > iraq_result:\n",
    "    japan_final += 1\n",
    "elif japan_result < iraq_result:\n",
    "    iraq_final += 1\n",
    "else: \n",
    "    pass\n",
    "#②の結果を格納   \n",
    "if japan_seson_result > iraq_seson_result:\n",
    "    japan_final += 1\n",
    "elif japan_seson_result < iraq_seson_result:\n",
    "    iraq_final += 1\n",
    "else:\n",
    "    pass\n",
    "    \n",
    "#③の結果を格納    \n",
    "if japan_iraq_result > iraq_japan_result:\n",
    "    japan_final += 1\n",
    "elif japan_iraq_result < iraq_seson_result:\n",
    "    iraq_final += 1\n",
    "else:\n",
    "    pass"
   ]
  },
  {
   "cell_type": "code",
   "execution_count": 1012,
   "metadata": {},
   "outputs": [
    {
     "name": "stdout",
     "output_type": "stream",
     "text": [
      "日本3-0イラク\n"
     ]
    }
   ],
   "source": [
    "#①〜③までの結果出力\n",
    "print(\"日本{0}-{1}イラク\".format(japan_final, iraq_final))"
   ]
  },
  {
   "cell_type": "markdown",
   "metadata": {},
   "source": [
    "今回の試合は日本の勝利となりました。このように①〜③の各要素で対戦し勝敗を各国決めたのが下記になります。<br>\n",
    "グループリーグや決勝トーナメントの組み合わせついては、分析上日本が勝利できることと、現実性の高い国が勝ち上がるようにしました。<br>\n",
    "現実性の高い国とはW杯の過去の結果から決勝トーナメントに勝ち上がるのはFIFAランキングが高い国の傾向があります。なるべくそれに沿った組み合わせにしてみました。"
   ]
  },
  {
   "attachments": {
    "%E3%82%B9%E3%82%AF%E3%83%AA%E3%83%BC%E3%83%B3%E3%82%B7%E3%83%A7%E3%83%83%E3%83%88%202020-01-15%2014.15.16.png": {
     "image/png": "[encoded data removed]"
    },
    "%E3%82%B9%E3%82%AF%E3%83%AA%E3%83%BC%E3%83%B3%E3%82%B7%E3%83%A7%E3%83%83%E3%83%88%202020-01-16%2023.49.59.png": {
     "image/png": "[encoded data removed]"
    }
   },
   "cell_type": "markdown",
   "metadata": {},
   "source": [
    "## 3-4 試合結果\n",
    "まずはグループリーグの勝敗結果です。(README.mdの①に格納)\n",
    "![%E3%82%B9%E3%82%AF%E3%83%AA%E3%83%BC%E3%83%B3%E3%82%B7%E3%83%A7%E3%83%83%E3%83%88%202020-01-16%2023.49.59.png](attachment:%E3%82%B9%E3%82%AF%E3%83%AA%E3%83%BC%E3%83%B3%E3%82%B7%E3%83%A7%E3%83%83%E3%83%88%202020-01-16%2023.49.59.png)\n",
    "次に決勝トーナメントの試合結果です。(README.md②に格納)\n",
    "![%E3%82%B9%E3%82%AF%E3%83%AA%E3%83%BC%E3%83%B3%E3%82%B7%E3%83%A7%E3%83%83%E3%83%88%202020-01-15%2014.15.16.png](attachment:%E3%82%B9%E3%82%AF%E3%83%AA%E3%83%BC%E3%83%B3%E3%82%B7%E3%83%A7%E3%83%83%E3%83%88%202020-01-15%2014.15.16.png)"
   ]
  },
  {
   "cell_type": "markdown",
   "metadata": {},
   "source": [
    "こちらで分析は以上になります。皆さん結果をみてどう思うでしょか。ベルギーやフランスといった強豪相手に本当に勝てるのか？と思うかもしれません。ただ分析上、大会の条件を絞れば数値上勝てるわけです！！<br>\n",
    "次回のW杯開催国のチャンスは<b>2030年W杯</b>です。日本はずっとW杯を誘致しているので、2024年に行われるFIFA総会で開催地を選ぶことが予定されています。日本の夢である<b>優勝</b>を目指すためには今回分析した条件で誘致できることを願っています。<br>"
   ]
  },
  {
   "cell_type": "markdown",
   "metadata": {},
   "source": [
    "## 4 最後に"
   ]
  },
  {
   "cell_type": "markdown",
   "metadata": {},
   "source": [
    "ちょっとした気持ちで学んだばかりのPythonを活かして分析をしてみたら、楽しくて止まらなくなってしまいました。まだまだ分析のレベルとしては低いものですが今後多くの成果物を作成しながら自身の知見を広げていければと思います。<br>\n",
    "とりあえずPythonもGitHubも、まず１歩"
   ]
  }
 ],
 "metadata": {
  "kernelspec": {
   "display_name": "Python 3",
   "language": "python",
   "name": "python3"
  },
  "language_info": {
   "codemirror_mode": {
    "name": "ipython",
    "version": 3
   },
   "file_extension": ".py",
   "mimetype": "text/x-python",
   "name": "python",
   "nbconvert_exporter": "python",
   "pygments_lexer": "ipython3",
   "version": "3.7.4"
  }
 },
 "nbformat": 4,
 "nbformat_minor": 2
}
